{
 "cells": [
  {
   "cell_type": "markdown",
   "metadata": {},
   "source": [
    "\n",
    "\n",
    "# ¿Qué es Git?\n",
    "Git es un sistema de control de versiones distribuido.\n",
    "Es una herramienta que permite guardar, organizar y seguir los cambios en el código (o en cualquier conjunto de archivos), manteniendo un historial completo de cómo evolucionaron a lo largo del tiempo.\n",
    "\n",
    "En resumen facilita:\n",
    "* Generar un historial: Guarda versiones anteriores de los archivos.\n",
    "* Trabajar de forma colaborativa: Permite que varias personas trabajen en el mismo proyecto sin pisarse el trabajo.\n",
    "* Tener el código distribuido: Cada persona tiene una copia completa del proyecto y de todo su historial en su computadora, no depende de un único servidor para trabajar.\n",
    "\n",
    "# ¿Qué es GitHub?\n",
    "GitHub es servicio que permite alojar repositorios Git y además ofrece otras herramientas complementarias para el desarrollo de software, como por ejemplo:\n",
    "- Reportar y gestionar errores o tareas con ISSUES.\n",
    "- Gestionar la planificación y organización del trabajo con PROJECTS, que permite crear tableros para organizar tareas.\n",
    "- Documentar proyectos usando WIKIS y archivos README.\n",
    "- Automatizar procesos con ACTIONS.\n",
    "\n",
    "Entre otras."
   ]
  },
  {
   "cell_type": "markdown",
   "metadata": {},
   "source": [
    "# Introducción a Git\n",
    "\n",
    "## Instalación:\n",
    "Git es un software que se debe instalar en la máquina local. Para hacerlo seguir los pasos según el sistema operativo:\n",
    "\n",
    "\n",
    "En Windows:\n",
    "- Descargamos el .exe de: *https://git-scm.com/*\n",
    "    \n",
    "En Linux:\n",
    "\n",
    "```bash\n",
    "    apt install git\n",
    "```\n",
    "\n"
   ]
  },
  {
   "cell_type": "code",
   "execution_count": null,
   "metadata": {},
   "outputs": [
    {
     "name": "stdout",
     "output_type": "stream",
     "text": [
      "git version 2.50.1.windows.1\n"
     ]
    }
   ],
   "source": [
    "# Comprobamos que GIT esté instalado:\n",
    "!git --version "
   ]
  },
  {
   "cell_type": "code",
   "execution_count": null,
   "metadata": {},
   "outputs": [],
   "source": [
    "# Configuramos nuestro usuario y correo de forma global:\n",
    "!git config --global user.name \"USERNAME\"\n",
    "!git config --global user.email \"MAIL\""
   ]
  },
  {
   "cell_type": "markdown",
   "metadata": {},
   "source": [
    "## Iniciar un repositorio\n",
    "\n",
    "Podemos crear un repositorio desde cero en local y luego subirlo al repositorio remoto, o copiar un repostorio ya existente en remoto a nuestra máquina\n",
    "\n",
    "Comandos básicos:\n",
    "### Inicializar un nuevo repositorio Git local y asociarlo a uno remoto\n",
    "```bash\n",
    "# 1. Inicializar un nuevo repositorio Git en el directorio actual\n",
    "git init\n",
    "\n",
    "# 2. Asociar el repositorio local a un repositorio remoto llamado \"origin\"\n",
    "git remote add origin <url-del-repositorio>\n",
    "\n",
    "# 3. Agregar todos los archivos al stage y hacer el primer commit\n",
    "git add .\n",
    "git commit -m \"Primer commit\"\n",
    "\n",
    "# 4. Enviar el commit al repositorio remoto y establecer la rama main como seguimiento por defecto\n",
    "git push -u origin main\n",
    "```\n",
    "\n",
    "### Clonar un repositorio remoto existente en tu máquina local\n",
    "```bash\n",
    "git clone <url-del-repositorio >\n",
    "```\n",
    "\n",
    "Ambos comandos generan una carpeta oculta .git que contiene toda la información y metadatos que Git necesita para gestionar el proyecto.\n",
    "\n",
    "\n",
    "\n"
   ]
  },
  {
   "cell_type": "markdown",
   "metadata": {},
   "source": [
    "# Flujo de trabajo\n",
    "\n",
    "## Estados\n",
    "Cuando se trabaja en git se mueven los archivos entre los siguientes \"lugares\" o estados:\n",
    "- Directorio de trabajo (workspace): Espacio donde se encuentran los archivos que uno edita. Los cambios en este estado aún no están preparados para ser confirmados por Git.\n",
    "- Área de preparación (stage): Zona intermedia donde se registran los cambios seleccionados para formar parte del próximo commit. Permite controlar qué modificaciones se incluirán en el historial.\n",
    "- Repositorio local: Donde se almacena de forma el historial de confirmaciones (commits) en la sesión local del usuario.\n",
    "- Repositorio remoto: Copia del repositorio almacenada en un servidor o servicio externo (como GitHub o GitLab), utilizada para sincronizar y compartir cambios con otros colaboradores.\n",
    "\n",
    "<div style=\"text-align: center\">\n",
    "    <img src=\"media/estados.png\" width=\"50%\">\n",
    "</div>\n",
    "\n",
    "\n",
    "\n",
    "## Ramas\n",
    "Las ramas permiten trabajar en varios desarrollos de un proyecto a la vez sin pisarse. Se pueden generar ramificaciones del proyecto principal para agregar una funcionalidad, corregir un bug o desarrollar una nueva versión del codigo.\n",
    " \n",
    "\n",
    "### Funcionamiento básico\n",
    "Cada vez que se hace un commit git guarda un snapshot del código actual. Esté snapshot además guarda metadatos, como un identificador único del snapshot y además el identificador del snapshot anterior. Si voy siguiendo todos los snapshots tengo una \"rama\":\n",
    " <div style=\"text-align: center\">\n",
    "    <img src=\"media/snapshots.png\" width=\"50%\">\n",
    "</div>\n",
    "\n",
    "Una rama es un apuntador que almacena el último snapshot en donde se trabajó. Al crear una rama nueva, se generá un nuevo apuntador, que cuando se guarden nuevos snapshots se bifurcarán de la rama original.\n",
    "\n",
    " <div style=\"text-align: center\">\n",
    "    <img src=\"media/snapshots2.png\" width=\"50%\">\n",
    "</div>\n",
    "\n",
    "El apuntador HEAD guarda en que rama estoy actualmente:\n",
    " <div style=\"text-align: center\">\n",
    "    <img src=\"media/snapshots3.png\" width=\"50%\">\n",
    "</div>\n",
    "Al fusionar dos ramas Git crea una nueva snapshot con dos snapshots \"padre\". Al borrar una rama depués de fusionarlas (práctica usual) el historial queda guardado, porque solo se elimino el apuntador de la rama, pero no todos sus snapshots.\n",
    "\n",
    "## Ciclo típico de trabajo\n",
    " <div style=\"text-align: center\">\n",
    "    <img src=\"media/branches.png\" width=\"50%\">\n",
    "</div>\n",
    "\n",
    "El ciclo de trabajo típico consiste en:\n",
    "1. Crear una nueva rama a partir de la principal (o de otra rama)\n",
    "```bash\n",
    "git checkout -b nombre-rama\n",
    "```\n",
    "2. Hacer los cambios necesarios en el Workspace\n",
    "3. Pasar los cambios al área de preparación (stage) y confirmar (commit) los avances.\n",
    "```bash\n",
    "git add .\n",
    "git commit -m \"Descripción de los cambios\"\n",
    "```\n",
    "4. Una vez terminado el trabajo, fusionar las ramas\n",
    "```bash\n",
    "git checkout main\n",
    "git merge nombre-rama\n",
    "```\n",
    "5. Eliminar la rama donde sé trabajó\n",
    "```bash\n",
    "git branch -d nombre-rama           # Local\n",
    "git push origin --delete nombre-rama  # Remoto\n",
    "```\n",
    "\n",
    "#### Buenas prácticas para commits:\n",
    "* Evitar commits directamente sobre la rama principal (main o master). En su lugar, crear ramas a partir de ella para realizar cambios y luego fusionarlas.\n",
    "* Cada commit debe representar un cambio único y completo, capaz de explicarse en una sola línea. Evitar commits masivos o que mezclen modificaciones no relacionadas.\n",
    "\n",
    "\n"
   ]
  },
  {
   "cell_type": "markdown",
   "metadata": {},
   "source": [
    "\n",
    "# Bibliografía\n",
    "- https://git-scm.com/book/en/v2\n",
    "- https://docs.github.com/en/get-started/start-your-journey/about-github-and-git\n",
    "- https://docs.wavemaker.com/learn/blog/2021/09/17/git-branching-strategy/"
   ]
  }
 ],
 "metadata": {
  "kernelspec": {
   "display_name": "Python 3",
   "language": "python",
   "name": "python3"
  },
  "language_info": {
   "codemirror_mode": {
    "name": "ipython",
    "version": 3
   },
   "file_extension": ".py",
   "mimetype": "text/x-python",
   "name": "python",
   "nbconvert_exporter": "python",
   "pygments_lexer": "ipython3",
   "version": "3.10.12"
  }
 },
 "nbformat": 4,
 "nbformat_minor": 2
}
